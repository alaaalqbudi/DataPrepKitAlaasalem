{
  "nbformat": 4,
  "nbformat_minor": 0,
  "metadata": {
    "colab": {
      "provenance": []
    },
    "kernelspec": {
      "name": "python3",
      "display_name": "Python 3"
    },
    "language_info": {
      "name": "python"
    }
  },
  "cells": [
    {
      "cell_type": "code",
      "execution_count": 2,
      "metadata": {
        "id": "tS81se2eeNhK"
      },
      "outputs": [],
      "source": [
        "import pandas as pd\n",
        "import numpy as np"
      ]
    },
    {
      "cell_type": "code",
      "source": [
        "class DataPrepKit:\n",
        "  def __init__(self, data):\n",
        "    self.data = data"
      ],
      "metadata": {
        "id": "N8v1ZbdWfkiC"
      },
      "execution_count": 5,
      "outputs": []
    },
    {
      "cell_type": "code",
      "source": [
        "def read_data(self, file_path):\n",
        "   try:\n",
        "      self.data = pd.read_csv(file_path)\n",
        "      print('data read successfully')\n",
        "   except:\n",
        "      print('Error reading data from file.')\n",
        "   try:\n",
        "      self.data = pd.read_json(file_path)\n",
        "      print('data read successfully')\n",
        "   except:\n",
        "      print('Error reading data from file.')\n",
        "   try:\n",
        "      self.data = pd.read_excel(file_path)\n",
        "      print('data read successfully')\n",
        "   except:\n",
        "      print('Error reading data from file.')"
      ],
      "metadata": {
        "id": "OCDjD4-mgWsh"
      },
      "execution_count": 10,
      "outputs": []
    },
    {
      "cell_type": "code",
      "source": [
        "def Data_summary(self):\n",
        "  print('summary data:', self.data.describe())"
      ],
      "metadata": {
        "id": "ofMdwViJiNU7"
      },
      "execution_count": 12,
      "outputs": []
    },
    {
      "cell_type": "code",
      "source": [
        "def handling_MissingValue(self):\n",
        "  self.data.fillna(value = 0)"
      ],
      "metadata": {
        "id": "y-UQHFnKjAyk"
      },
      "execution_count": 15,
      "outputs": []
    },
    {
      "cell_type": "code",
      "source": [
        "from sklearn.compose import ColumnTransformer\n",
        "from sklearn.preprocessing import OneHotEncoder"
      ],
      "metadata": {
        "id": "UWR5NfU6mLQt"
      },
      "execution_count": 16,
      "outputs": []
    },
    {
      "cell_type": "code",
      "source": [
        "def encode_categorical_data(self):\n",
        "    ct=ColumnTransformer(transformers=[('encoder',  OneHotEncoder(), [0])], remainder='passthrough')"
      ],
      "metadata": {
        "id": "S3o7le93pBmL"
      },
      "execution_count": 2,
      "outputs": []
    }
  ]
}